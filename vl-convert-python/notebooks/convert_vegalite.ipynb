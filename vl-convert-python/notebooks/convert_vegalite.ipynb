{
 "cells": [
  {
   "cell_type": "code",
   "execution_count": null,
   "id": "4da38ae4",
   "metadata": {},
   "outputs": [],
   "source": [
    "from vl_convert import VlConverter"
   ]
  },
  {
   "cell_type": "code",
   "execution_count": null,
   "id": "65f2222b",
   "metadata": {},
   "outputs": [],
   "source": [
    "converter = VlConverter()"
   ]
  },
  {
   "cell_type": "code",
   "execution_count": null,
   "id": "e6e0a524",
   "metadata": {},
   "outputs": [],
   "source": [
    "vl_spec = r\"\"\"\n",
    "{\n",
    "  \"$schema\": \"https://vega.github.io/schema/vega-lite/v5.json\",\n",
    "  \"data\": {\"url\": \"https://raw.githubusercontent.com/vega/vega-datasets/next/data/barley.json\"},\n",
    "  \"mark\": \"bar\",\n",
    "  \"encoding\": {\n",
    "    \"x\": {\"aggregate\": \"sum\", \"field\": \"yield\"},\n",
    "    \"y\": {\"field\": \"variety\"},\n",
    "    \"color\": {\"field\": \"site\"}\n",
    "  }\n",
    "}\n",
    "\"\"\""
   ]
  },
  {
   "cell_type": "code",
   "execution_count": null,
   "id": "dd210feb",
   "metadata": {},
   "outputs": [],
   "source": [
    "%%time\n",
    "vg_spec = converter.vegalite_to_vega(vl_spec=vl_spec, vl_version=\"5.5\", pretty=True)"
   ]
  },
  {
   "cell_type": "code",
   "execution_count": null,
   "id": "ea903916",
   "metadata": {},
   "outputs": [],
   "source": [
    "%timeit converter.vegalite_to_vega(vl_spec=vl_spec, vl_version=\"5.5\", pretty=True)"
   ]
  },
  {
   "cell_type": "code",
   "execution_count": null,
   "id": "bfc4745c",
   "metadata": {},
   "outputs": [],
   "source": [
    "print(vg_spec)"
   ]
  },
  {
   "cell_type": "code",
   "execution_count": null,
   "id": "751ce215",
   "metadata": {},
   "outputs": [],
   "source": [
    "from IPython.display import SVG, Image"
   ]
  },
  {
   "cell_type": "code",
   "execution_count": null,
   "id": "a02c1c77",
   "metadata": {},
   "outputs": [],
   "source": [
    "%%time\n",
    "svg = converter.vega_to_svg(vg_spec)\n",
    "SVG(svg)"
   ]
  },
  {
   "cell_type": "code",
   "execution_count": null,
   "id": "67b33eae",
   "metadata": {},
   "outputs": [],
   "source": [
    "%%time\n",
    "png = converter.vega_to_png(vg_spec, 2)\n",
    "Image(png, retina=True)"
   ]
  }
 ],
 "metadata": {
  "kernelspec": {
   "display_name": "Python 3 (ipykernel)",
   "language": "python",
   "name": "python3"
  },
  "language_info": {
   "codemirror_mode": {
    "name": "ipython",
    "version": 3
   },
   "file_extension": ".py",
   "mimetype": "text/x-python",
   "name": "python",
   "nbconvert_exporter": "python",
   "pygments_lexer": "ipython3",
   "version": "3.10.6"
  }
 },
 "nbformat": 4,
 "nbformat_minor": 5
}
