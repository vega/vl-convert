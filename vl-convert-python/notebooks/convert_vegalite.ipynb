{
 "cells": [
  {
   "cell_type": "markdown",
   "id": "3d213758-6371-4702-a539-c8cce6f4f2ef",
   "metadata": {},
   "source": [
    "# Installation\n",
    "`vl-convert-python` can be installed using pip with\n",
    "\n",
    "```\n",
    "$ pip install vl-convert-python\n",
    "```"
   ]
  },
  {
   "cell_type": "markdown",
   "id": "3fb0da56-2cda-431e-abd1-70019b0af3db",
   "metadata": {},
   "source": [
    "# Usage\n",
    "The `vl-convert-python` package provides a series of conversion functions under the `vl_convert` module."
   ]
  },
  {
   "cell_type": "markdown",
   "id": "bf0039f9-de06-4843-a794-8f4d43581165",
   "metadata": {},
   "source": [
    "## Convert Vega-Lite to SVG, PNG, and Vega\n",
    "The `vegalite_to_svg` and `vegalite_to_png` functions can be used to convert Vega-Lite specifications to static SVG and PNG images respectively. The `vegalite_to_vega` function can be used to convert a Vega-Lite specification to a Vega specification.\n",
    "\n",
    "Initialize output directory"
   ]
  },
  {
   "cell_type": "code",
   "execution_count": null,
   "id": "9c85d7a1-91e8-42a6-9bf8-b83ba480e198",
   "metadata": {},
   "outputs": [],
   "source": [
    "from pathlib import Path\n",
    "\n",
    "Path(\"output\").mkdir(exist_ok=True)"
   ]
  },
  {
   "cell_type": "markdown",
   "id": "bf0e095e-346b-47f9-a389-077dfc559714",
   "metadata": {},
   "source": [
    "Initialize Vega-Lite specification"
   ]
  },
  {
   "cell_type": "code",
   "execution_count": null,
   "id": "6969360f-00df-4c55-bd66-6ac8d632d1e8",
   "metadata": {},
   "outputs": [],
   "source": [
    "import vl_convert as vlc\n",
    "import json\n",
    "\n",
    "vl_spec = r\"\"\"\n",
    "{\n",
    "  \"$schema\": \"https://vega.github.io/schema/vega-lite/v5.json\",\n",
    "  \"data\": {\"url\": \"https://raw.githubusercontent.com/vega/vega-datasets/next/data/movies.json\"},\n",
    "  \"transform\": [{\n",
    "    \"filter\": {\"and\": [\n",
    "      {\"field\": \"IMDB Rating\", \"valid\": true},\n",
    "      {\"field\": \"Rotten Tomatoes Rating\", \"valid\": true}\n",
    "    ]}\n",
    "  }],\n",
    "  \"mark\": \"rect\",\n",
    "  \"width\": 300,\n",
    "  \"height\": 200,\n",
    "  \"encoding\": {\n",
    "    \"x\": {\n",
    "      \"bin\": {\"maxbins\":60},\n",
    "      \"field\": \"IMDB Rating\",\n",
    "      \"type\": \"quantitative\"\n",
    "    },\n",
    "    \"y\": {\n",
    "      \"bin\": {\"maxbins\": 40},\n",
    "      \"field\": \"Rotten Tomatoes Rating\",\n",
    "      \"type\": \"quantitative\"\n",
    "    },\n",
    "    \"color\": {\n",
    "      \"aggregate\": \"count\",\n",
    "      \"type\": \"quantitative\"\n",
    "    }\n",
    "  },\n",
    "  \"config\": {\n",
    "    \"view\": {\n",
    "      \"stroke\": \"transparent\"\n",
    "    }\n",
    "  }\n",
    "}\n",
    "\"\"\""
   ]
  },
  {
   "cell_type": "markdown",
   "id": "1665c824-95f1-4205-88ff-b1c0cebeaaaa",
   "metadata": {},
   "source": [
    "Create to SVG image string and then write to a file"
   ]
  },
  {
   "cell_type": "code",
   "execution_count": null,
   "id": "07d2c0de-ebe7-415f-906a-a640a8168cfe",
   "metadata": {},
   "outputs": [],
   "source": [
    "svg_str = vlc.vegalite_to_svg(vl_spec=vl_spec)\n",
    "with open(\"output/chart.svg\", \"wt\") as f:\n",
    "    f.write(svg_str)"
   ]
  },
  {
   "cell_type": "markdown",
   "id": "73a77c15-6162-4c96-af13-7e7fca4a9e8a",
   "metadata": {},
   "source": [
    "Create PNG image data and then write to a file"
   ]
  },
  {
   "cell_type": "code",
   "execution_count": null,
   "id": "2cb69c17-76f5-4acf-85b5-b770ae7d3315",
   "metadata": {},
   "outputs": [],
   "source": [
    "png_data = vlc.vegalite_to_png(vl_spec=vl_spec, scale=2)\n",
    "with open(\"output/chart.png\", \"wb\") as f:\n",
    "    f.write(png_data)"
   ]
  },
  {
   "cell_type": "markdown",
   "id": "51bb19c6-74a0-4026-bd63-7abe9dfc2139",
   "metadata": {},
   "source": [
    "Create low-level Vega representation of chart and write to file"
   ]
  },
  {
   "cell_type": "code",
   "execution_count": null,
   "id": "33f832b5-c735-416c-b786-3e9bc39f62f5",
   "metadata": {},
   "outputs": [],
   "source": [
    "vg_spec = vlc.vegalite_to_vega(vl_spec)\n",
    "with open(\"output/chart.vg.json\", \"wt\") as f:\n",
    "    json.dump(vg_spec, f)"
   ]
  },
  {
   "cell_type": "markdown",
   "id": "2e246db9-b94e-437c-8d45-5f79251d520c",
   "metadata": {},
   "source": [
    "SVG image string can be displayed in the notebook directly using `IPython.display.SVG`"
   ]
  },
  {
   "cell_type": "code",
   "execution_count": null,
   "id": "73edfaab-6bcf-498a-a3ba-ba5ea25fa820",
   "metadata": {},
   "outputs": [],
   "source": [
    "from IPython.display import SVG\n",
    "\n",
    "SVG(svg_str)"
   ]
  },
  {
   "cell_type": "markdown",
   "id": "3a7aee41-8a45-4228-84f9-537bd64c85d7",
   "metadata": {},
   "source": [
    "PNG data can be displayed in the notebook using `IPython.display.Image`"
   ]
  },
  {
   "cell_type": "code",
   "execution_count": null,
   "id": "2017dd55-2d28-49bd-a708-b5e3e8b72595",
   "metadata": {},
   "outputs": [],
   "source": [
    "from IPython.display import Image\n",
    "\n",
    "Image(png_data, retina=True)"
   ]
  },
  {
   "cell_type": "markdown",
   "id": "66bd67aa-d353-463d-869b-290409c321c8",
   "metadata": {},
   "source": [
    "## Convert Altair Chart to SVG, PNG, and Vega\n",
    "The Altair visualization library provides a Pythonic API for generating Vega-Lite visualizations. As such, `vl-convert-python` can be used to convert Altair charts to PNG, SVG, or Vega. The `vegalite_*` functions support an optional `vl_version` argument that can be used to specify the particular version of the Vega-Lite JavaScript library to use.  Version 4.2 of the Altair package uses Vega-Lite version 4.17, so this is the version that should be specified when converting Altair charts."
   ]
  },
  {
   "cell_type": "code",
   "execution_count": null,
   "id": "eda135a1-0297-49d1-bbb0-a9f2b4fdc76f",
   "metadata": {},
   "outputs": [],
   "source": [
    "import altair as alt\n",
    "from vega_datasets import data\n",
    "import vl_convert as vlc\n",
    "\n",
    "source = data.barley()\n",
    "\n",
    "chart = alt.Chart(source).mark_bar().encode(x=\"sum(yield)\", y=\"variety\", color=\"site\")\n",
    "chart"
   ]
  },
  {
   "cell_type": "markdown",
   "id": "c8588a84-5de1-47e9-883e-611f4f4740bc",
   "metadata": {},
   "source": [
    "Create SVG image string and then write to a file"
   ]
  },
  {
   "cell_type": "code",
   "execution_count": null,
   "id": "4b1aecad-c246-4a42-b410-f92791080d98",
   "metadata": {},
   "outputs": [],
   "source": [
    "svg_str = vlc.vegalite_to_svg(chart.to_json(), vl_version=\"4.17\")\n",
    "with open(\"output/altair_chart.svg\", \"wt\") as f:\n",
    "    f.write(svg_str)"
   ]
  },
  {
   "cell_type": "markdown",
   "id": "e82979ee-6b69-401e-a03a-8ef4a750dd87",
   "metadata": {},
   "source": [
    "Create PNG image data and then write to a file"
   ]
  },
  {
   "cell_type": "code",
   "execution_count": null,
   "id": "61b1c32d-38e0-4959-88cd-dd7b127271f6",
   "metadata": {},
   "outputs": [],
   "source": [
    "png_data = vlc.vegalite_to_png(chart.to_json(), vl_version=\"4.17\", scale=2)\n",
    "with open(\"output/altair_chart.png\", \"wb\") as f:\n",
    "    f.write(png_data)"
   ]
  },
  {
   "cell_type": "markdown",
   "id": "75c9366f-8fba-4c07-a859-b556a4f2c373",
   "metadata": {},
   "source": [
    "Create low-level Vega representation of chart and write to file"
   ]
  },
  {
   "cell_type": "code",
   "execution_count": null,
   "id": "f7c22eaf-f5f0-4af6-9647-4ce4fcbc511b",
   "metadata": {},
   "outputs": [],
   "source": [
    "vg_spec = vlc.vegalite_to_vega(chart.to_json(), vl_version=\"4.17\")\n",
    "with open(\"output/altair_chart.vg.json\", \"wt\") as f:\n",
    "    json.dump(vg_spec, f)"
   ]
  },
  {
   "cell_type": "markdown",
   "id": "b9028dc0-d713-4760-b5ff-1f7f4dd43412",
   "metadata": {},
   "source": [
    "Display SVG in notebook"
   ]
  },
  {
   "cell_type": "code",
   "execution_count": null,
   "id": "57ff837b-7966-42d0-b5b6-783c3cac9ae4",
   "metadata": {},
   "outputs": [],
   "source": [
    "SVG(svg_str)"
   ]
  },
  {
   "cell_type": "markdown",
   "id": "bb1b8823-169f-4e8a-b94e-c45b997756c1",
   "metadata": {},
   "source": [
    "Display PNG in notebook"
   ]
  },
  {
   "cell_type": "code",
   "execution_count": null,
   "id": "9888d3ce-d75b-4806-aabf-4b16a1ff0ad2",
   "metadata": {},
   "outputs": [],
   "source": [
    "Image(png_data, retina=True)"
   ]
  }
 ],
 "metadata": {
  "kernelspec": {
   "display_name": "Python 3 (ipykernel)",
   "language": "python",
   "name": "python3"
  },
  "language_info": {
   "codemirror_mode": {
    "name": "ipython",
    "version": 3
   },
   "file_extension": ".py",
   "mimetype": "text/x-python",
   "name": "python",
   "nbconvert_exporter": "python",
   "pygments_lexer": "ipython3",
   "version": "3.10.6"
  }
 },
 "nbformat": 4,
 "nbformat_minor": 5
}
